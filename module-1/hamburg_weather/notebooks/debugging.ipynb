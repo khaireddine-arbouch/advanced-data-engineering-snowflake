{
 "metadata": {
  "kernelspec": {
   "display_name": "Streamlit Notebook",
   "name": "streamlit"
  },
  "lastEditStatus": {
   "notebookId": "os6x7ew6tuw3fx3ew5hi",
   "authorId": "1215150965363",
   "authorName": "KHAIREDDINE",
   "authorEmail": "contact@khaireddine.com",
   "sessionId": "23e88c2f-5b78-4785-9274-fbcc9d95e4b3",
   "lastEditTime": 1752855535005
  }
 },
 "nbformat_minor": 5,
 "nbformat": 4,
 "cells": [
  {
   "cell_type": "code",
   "execution_count": null,
   "id": "3775908f-ca36-4846-8f38-5adca39217f2",
   "metadata": {
    "language": "sql",
    "name": "cell1"
   },
   "outputs": [],
   "source": [
    "-- Set context\n",
    "USE ROLE accountadmin;\n",
    "USE DATABASE staging_tasty_bytes;\n",
    "USE SCHEMA raw_pos;\n",
    "USE WAREHOUSE compute_wh;"
   ]
  },
  {
   "cell_type": "code",
   "execution_count": null,
   "id": "dfd78d46-46f3-40a7-be43-4ab79cf72a9f",
   "metadata": {
    "language": "sql",
    "name": "cell2"
   },
   "outputs": [],
   "source": [
    "SHOW TABLES IN staging_tasty_bytes.raw_pos;"
   ]
  },
  {
   "cell_type": "code",
   "id": "ea753371-97e8-4b1a-a47a-3e900a5d8c63",
   "metadata": {
    "language": "sql",
    "name": "cell3"
   },
   "outputs": [],
   "source": "COPY INTO STAGING_tasty_bytes.raw_pos.country\n(\n   country_id,\n   country,\n   iso_currency,\n   iso_country,\n   city_id,\n   city,\n   city_population\n)\nFROM @STAGING_tasty_bytes.public.s3load/raw_pos/country/;",
   "execution_count": null
  },
  {
   "cell_type": "code",
   "id": "ca74ae52-361d-40ce-b538-4c66fa394258",
   "metadata": {
    "language": "sql",
    "name": "cell4"
   },
   "outputs": [],
   "source": "CREATE OR ALTER TABLE STAGING_tasty_bytes.raw_pos.country\n(\n   country_id NUMBER(18,0),\n   country VARCHAR(16777216),\n   iso_currency VARCHAR(3),\n   iso_country VARCHAR(2),\n   city VARCHAR(16777216),\n   city_population VARCHAR(16777216),\n   city_id NUMBER(19, 0)\n);",
   "execution_count": null
  }
 ]
}